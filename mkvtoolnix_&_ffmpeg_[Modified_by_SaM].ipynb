{
  "nbformat": 4,
  "nbformat_minor": 0,
  "metadata": {
    "colab": {
      "name": "mkvtoolnix & ffmpeg [Modified by SaM].ipynb",
      "provenance": [],
      "collapsed_sections": [
        "EFOqhHG6hOVH",
        "2lDOW--z_eqD",
        "I8w8bCUFMmoE",
        "0efSI7yJqWD_",
        "nKz--cVWS6bH",
        "BgB_OmyhMd-y",
        "xLm-XtyJqelS",
        "KgNPvGccgwd8",
        "RDHuIkoi6l9a",
        "NQ0TxfKeghR8",
        "NObEcBWAJoaz",
        "FpJXJiRl6-gK",
        "SNDGdMRn3PA-",
        "2f-THZmDoOaY",
        "MSUasbRUDP3B",
        "GahMjYf8miNs",
        "7-3O4en4C4IL"
      ],
      "include_colab_link": true
    },
    "kernelspec": {
      "display_name": "Python 3",
      "name": "python3"
    }
  },
  "cells": [
    {
      "cell_type": "markdown",
      "metadata": {
        "id": "view-in-github",
        "colab_type": "text"
      },
      "source": [
        "<a href=\"https://colab.research.google.com/github/fasih4444/AnyDLBot/blob/master/mkvtoolnix_%26_ffmpeg_%5BModified_by_SaM%5D.ipynb\" target=\"_parent\"><img src=\"https://colab.research.google.com/assets/colab-badge.svg\" alt=\"Open In Colab\"/></a>"
      ]
    },
    {
      "cell_type": "markdown",
      "metadata": {
        "id": "EFOqhHG6hOVH"
      },
      "source": [
        "\n",
        "# **1.** Installation & Mount GDrive"
      ]
    },
    {
      "cell_type": "code",
      "metadata": {
        "cellView": "form",
        "colab": {
          "base_uri": "https://localhost:8080/",
          "height": 73
        },
        "id": "hFeE-qPuhTiK",
        "outputId": "5f12fd3f-393e-4bce-fe08-a1ac08a86d3a"
      },
      "source": [
        "#@title <font size=\"5\">← ឵឵<i>Upgrade FFmpeg to v4.2.2</font> { vertical-output: true }\n",
        "from IPython.display import clear_output\n",
        "import os, urllib.request\n",
        "HOME = os.path.expanduser(\"~\")\n",
        "pathDoneCMD = f'{HOME}/doneCMD.sh'\n",
        "if not os.path.exists(f\"{HOME}/.ipython/ttmg.py\"):\n",
        "    hCode = \"https://raw.githubusercontent.com/yunooooo/gcct/master/res/ttmg.py\"\n",
        "    urllib.request.urlretrieve(hCode, f\"{HOME}/.ipython/ttmg.py\")\n",
        "\n",
        "from ttmg import (\n",
        "    loadingAn,\n",
        "    textAn,\n",
        ")\n",
        "\n",
        "loadingAn(name=\"lds\")\n",
        "textAn(\"Installing Dependencies...\", ty='twg')\n",
        "os.system('pip install git+git://github.com/AWConant/jikanpy.git')\n",
        "os.system('add-apt-repository -y ppa:jonathonf/ffmpeg-4')\n",
        "os.system('apt-get update')\n",
        "os.system('apt install mediainfo')\n",
        "os.system('apt-get install ffmpeg')\n",
        "clear_output()\n",
        "print('Installation finished.')"
      ],
      "execution_count": 1,
      "outputs": [
        {
          "output_type": "stream",
          "text": [
            "Installation finished.\n"
          ],
          "name": "stdout"
        }
      ]
    },
    {
      "cell_type": "code",
      "metadata": {
        "cellView": "form",
        "colab": {
          "base_uri": "https://localhost:8080/"
        },
        "id": "g5NpJ9IF-VwA",
        "outputId": "8c5f6568-a6e9-4682-a4f6-a33b67101024"
      },
      "source": [
        "#@title Install additional packages and mount Google Drive { vertical-output: true }\n",
        "from IPython.display import clear_output\n",
        "from google.colab import drive\n",
        "import os\n",
        "import shutil\n",
        "shutil.rmtree(\"/content/sample_data\", ignore_errors=True)\n",
        "os.system('apt-get update')\n",
        "os.system('apt-get install mkvtoolnix mkvtoolnix-gui')\n",
        "clear_output(wait=True)\n",
        "print('Installation finished. Now mount your Google Drive.')\n",
        "drive.mount('/content/GDrive')\n",
        "clear_output(wait=True)\n",
        "print('Drive is mounted. Setup is completed.')"
      ],
      "execution_count": 2,
      "outputs": [
        {
          "output_type": "stream",
          "text": [
            "Drive is mounted. Setup is completed.\n"
          ],
          "name": "stdout"
        }
      ]
    },
    {
      "cell_type": "markdown",
      "metadata": {
        "id": "2lDOW--z_eqD"
      },
      "source": [
        "# **2.** Run mkvpropedit (Change Metadata)"
      ]
    },
    {
      "cell_type": "markdown",
      "metadata": {
        "id": "I8w8bCUFMmoE"
      },
      "source": [
        "### <font size=\"4\">» </font><font size=\"5\">For Whole Directory:"
      ]
    },
    {
      "cell_type": "code",
      "metadata": {
        "id": "-qiFfbFLNjuy",
        "cellView": "form"
      },
      "source": [
        "import os, sys, re\n",
        "\n",
        "dir_path = \"/content/GDrive/Shareddrives/!Filmyfy/LOKI/a\" #@param {type:\"string\"}\n",
        "title_name = \"Visit ==> FilmyFy.Net\" #@param {type:\"string\"}\n",
        "os.environ['inputPath'] = dir_path\n",
        "n=0\n",
        "for files in os.listdir(dir_path):\n",
        "  file_info = (dir_path + \"/\" + str(files))\n",
        "  n+=1\n",
        "  print(\"\\nDoing Task: \",n)\n",
        "  !mkvpropedit \"$file_info\" -e info -s title=\"$title_name\" -e track:s1 -s name=\"FilmyFy.Net\" -e track:a1 -s name=\"FilmyFy.Net\" -e track:a2 -s name=\"FilmyFy.Net\" -e track:v1 -s name=\"FilmyFy.Net\"\n",
        "  #!mkvpropedit \"$file_info\" \n",
        "  #!mkvpropedit \"$file_info\" -e info -s title=\"$title_name\" -e track:v1 -s name=\"FilmyFy.Net\" -e track:a1 -s name=\"FilmyFy.Net\" -e track:s1 -s name=\"FilmyFy.Net\" "
      ],
      "execution_count": null,
      "outputs": []
    },
    {
      "cell_type": "markdown",
      "metadata": {
        "id": "0efSI7yJqWD_"
      },
      "source": [
        "### <font size=\"4\">» </font><font size=\"5\">Get Metadata"
      ]
    },
    {
      "cell_type": "code",
      "metadata": {
        "cellView": "form",
        "id": "s1YliB5DF7PP"
      },
      "source": [
        "import os, sys, re\n",
        "\n",
        "dir_path = \"\" #@param {type:\"string\"}\n",
        "title_name = \"Visit ==> FilmyFy.Net\" #@param {type:\"string\"}\n",
        "tracks = 'V1 - A1 - A2 - S1' #@param [\"V1 - A1 - A2 - S1\", \"V1 - A1 - S1\", \"V1 - A1\", \"V1 - A1 - A2\",\"Get Info\"]\n",
        "os.environ['inputPath'] = dir_path\n",
        "n=0\n",
        "for files in os.listdir(dir_path):\n",
        "  file_info = (dir_path + str(files))\n",
        "  print(\"Doing Task: \",1+n,\"\\n\")\n",
        "  if tracks == 'V1 - A1 - A2 - S1':\n",
        "    !mkvpropedit \"$file_info\" -e info -s title=\"$title_name\"   -e track:v1 -s name=\"FilmyFy.Net\" -e track:a1 -s name=\"FilmyFy.Net\" -e track:a2 -s name=\"FilmyFy.Net\" -e track:s1 -s name=\"FilmyFy.Net\"\n",
        "\n",
        "  elif tracks == 'V1 - A1 - A2':\n",
        "    !mkvpropedit \"$file_info\" -e info -s title=\"$title_name\"   -e track:v1 -s name=\"FilmyFy.Net\" -e track:a1 -s name=\"FilmyFy.Net\" -e track:a2 -s name=\"FilmyFy.Net\"\n",
        "\n",
        "  elif tracks == 'V1 - A1 - S1':\n",
        "    !mkvpropedit \"$file_info\" -e info -s title=\"$title_name\"   -e track:v1 -s name=\"FilmyFy.Net\" -e track:a1 -s name=\"FilmyFy.Net\" -e track:s1 -s name=\"FilmyFy.Net\"\n",
        "\n",
        "  elif tracks == 'V1 - A1':\n",
        "    !mkvpropedit \"$file_info\" -e info -s title=\"$title_name\"   -e track:v1 -s name=\"FilmyFy.Net\" -e track:a1 -s name=\"FilmyFy.Net\"\n",
        "\n",
        "  else:\n",
        "    !mkvpropedit \"$file_info\" "
      ],
      "execution_count": null,
      "outputs": []
    },
    {
      "cell_type": "markdown",
      "metadata": {
        "id": "nKz--cVWS6bH"
      },
      "source": [
        "### <font size=\"5\">» </font><font size=\"3\">Get other Detail info"
      ]
    },
    {
      "cell_type": "markdown",
      "metadata": {
        "id": "chv2ROUsR8mx"
      },
      "source": [
        "*`Get Detailed Media Info`*"
      ]
    },
    {
      "cell_type": "code",
      "metadata": {
        "id": "CVtYRnTxqWEI",
        "cellView": "form"
      },
      "source": [
        "import os, sys, re\n",
        "\n",
        "media_file_path = \"/content/GDrive/Shareddrives/!Filmyfy/d/\" #@param {type:\"string\"}\n",
        "os.environ['inputFile'] = media_file_path\n",
        "\n",
        "for files2 in os.listdir(media_file_path):\n",
        "  file_info2 = (media_file_path + str(files2))\n",
        "  !ffmpeg -i \"$file_info2\" -hide_banner"
      ],
      "execution_count": null,
      "outputs": []
    },
    {
      "cell_type": "markdown",
      "metadata": {
        "id": "T3_0MK2-Sgm-"
      },
      "source": [
        "`Working Now`\n",
        "\n",
        "\n",
        "\n"
      ]
    },
    {
      "cell_type": "code",
      "metadata": {
        "id": "9aVEwua5tOlt",
        "cellView": "form"
      },
      "source": [
        "import json\n",
        "directory = \"\" #@param{type:\"string\"}\n",
        "xd = !ffprobe -v quiet -print_format json -show_format -show_streams -print_format json \"/content/GDrive/Shareddrives/!Filmyfy/d/FilmyFy.Net - Mother 2017 BluRay 480p Hindi English ESub.mkv\"\n",
        "\n",
        "with open('data.json', 'w') as f:\n",
        "  json.dump(xd, f, sort_keys = True, indent = 4, ensure_ascii = False)\n",
        "\n",
        "# with open('data.json') as data_file:\n",
        "#     data_loaded = json.load(data_file)\n",
        "    \n",
        "\n",
        "\n",
        "data_loaded2 = json.dumps(xd)\n",
        "\n",
        "type(data_loaded2)\n",
        "\n",
        "print(data_loaded2[\"streams\"])\n",
        "\n",
        "# print(data_loaded[91])\n",
        "# print(data_loaded[139])\n",
        "# print(data_loaded[180])\n",
        "# print(data_loaded[203])\n",
        "\n",
        "\n"
      ],
      "execution_count": null,
      "outputs": []
    },
    {
      "cell_type": "code",
      "metadata": {
        "id": "Z7sJGtvOf5VY",
        "cellView": "form"
      },
      "source": [
        "#@markdown <h3>← Verify Tracks for Video</h3>\n",
        "import os, sys, re\n",
        "video_file_path = \"\" #@param {type:\"string\"}\n",
        "\n",
        "!mkvmerge -i \"$video_file_path\""
      ],
      "execution_count": null,
      "outputs": []
    },
    {
      "cell_type": "markdown",
      "metadata": {
        "id": "BgB_OmyhMd-y"
      },
      "source": [
        "### <font size=\"4\">» </font><font size=\"5\">For Individual File"
      ]
    },
    {
      "cell_type": "code",
      "metadata": {
        "cellView": "form",
        "id": "NduQMCsIFpql"
      },
      "source": [
        "import os, sys, re\n",
        "\n",
        "dir_path = \"\" #@param {type:\"string\"}\n",
        "title_name = \"Visit ==> FilmyFy.Net\" #@param {type:\"string\"}\n",
        "os.environ['inputPath'] = dir_path\n",
        "!mkvpropedit \"$inputPath\" -e info -s title=\"$title_name\" -e track:s1 -s name=\"FilmyFy.Net\" -e track:a1 -s name=\"FilmyFy.Net\" -e track:v1 -s name=\"FilmyFy.Net\""
      ],
      "execution_count": null,
      "outputs": []
    },
    {
      "cell_type": "markdown",
      "metadata": {
        "id": "xLm-XtyJqelS"
      },
      "source": [
        "### <font size=\"4\">» </font><font size=\"5\">Remove Subtitles"
      ]
    },
    {
      "cell_type": "code",
      "metadata": {
        "cellView": "form",
        "id": "4GfQ1gHrqelS"
      },
      "source": [
        "import os, sys, re\n",
        "\n",
        "media_file_path = \"\" #@param {type:\"string\"}\n",
        "\n",
        "os.environ['inputFile'] = media_file_path\n",
        "\n",
        "!mkvmerge --no-subtitles \"$inputFile\""
      ],
      "execution_count": null,
      "outputs": []
    },
    {
      "cell_type": "markdown",
      "metadata": {
        "id": "KgNPvGccgwd8"
      },
      "source": [
        "# **3.** Run FFmpeg Scripts (*Convert, Edit, Trim + more*)"
      ]
    },
    {
      "cell_type": "markdown",
      "metadata": {
        "id": "RDHuIkoi6l9a"
      },
      "source": [
        "### <font size=\"4\">» </font><font size=\"5\">Display Media File Metadata"
      ]
    },
    {
      "cell_type": "code",
      "metadata": {
        "cellView": "form",
        "id": "Sv8au_RO6WUs"
      },
      "source": [
        "import os, sys, re\n",
        "\n",
        "media_file_path = \"/content/GDrive/Shareddrives/!SamzDrive/Not Uploaded/A-G/FilmyFy.Net - Fear.of.Rain.2021.720p.10bit.BluRay.6CH.x265.HEVC.ESub.mkv\" #@param {type:\"string\"}\n",
        "\n",
        "os.environ['inputFile'] = media_file_path\n",
        "\n",
        "!ffmpeg -i \"$inputFile\" -hide_banner"
      ],
      "execution_count": null,
      "outputs": []
    },
    {
      "cell_type": "markdown",
      "metadata": {
        "id": "X4yIG_nqYAoH"
      },
      "source": [
        "> *You can ignore the* \"`At least one output file must be specified`\" *error after running this.*\n",
        "\n",
        "\n"
      ]
    },
    {
      "cell_type": "markdown",
      "metadata": {
        "id": "NQ0TxfKeghR8"
      },
      "source": [
        "### <font size=\"4\">» </font><font size=\"5\">Convert *Video File* ➔ *.mp4* (*Lossless*)"
      ]
    },
    {
      "cell_type": "code",
      "metadata": {
        "cellView": "form",
        "id": "Ls4O5VLwief-"
      },
      "source": [
        "import os, sys, re\n",
        "\n",
        "video_file_path = \"\" #@param {type:\"string\"}\n",
        "\n",
        "output_file_path = re.search(\"^[\\/].+\\/\", video_file_path)\n",
        "output_file_path_raw = output_file_path.group(0)\n",
        "delsplit = re.search(\"\\/(?:.(?!\\/))+$\", video_file_path)\n",
        "filename = re.sub(\"^[\\/]\", \"\", delsplit.group(0))\n",
        "filename_raw = re.sub(\".{4}$\", \"\", filename)\n",
        "file_extension = re.search(\".{3}$\", filename)\n",
        "file_extension_raw = file_extension.group(0)\n",
        "\n",
        "os.environ['inputFile'] = video_file_path\n",
        "os.environ['outputPath'] = output_file_path_raw\n",
        "os.environ['startTime'] = start_time\n",
        "os.environ['endTime'] = end_time\n",
        "os.environ['fileName'] = filename_raw\n",
        "os.environ['fileExtension'] = file_extension_raw\n",
        "\n",
        "!ffmpeg -hide_banner -i \"$inputFile\" -c copy -strict -2 \"$outputPath\"/\"$fileName\".mp4"
      ],
      "execution_count": null,
      "outputs": []
    },
    {
      "cell_type": "markdown",
      "metadata": {
        "id": "NObEcBWAJoaz"
      },
      "source": [
        "### <font size=\"4\">» </font><font size=\"5\">Convert *Video File* ➔ *.mkv* (*Lossless*)"
      ]
    },
    {
      "cell_type": "code",
      "metadata": {
        "cellView": "form",
        "id": "zsx4JFLRJoa0"
      },
      "source": [
        "import os, sys, re\n",
        "\n",
        "video_file_path = \"\" #@param {type:\"string\"}\n",
        "\n",
        "output_file_path = re.search(\"^[\\/].+\\/\", video_file_path)\n",
        "output_file_path_raw = output_file_path.group(0)\n",
        "delsplit = re.search(\"\\/(?:.(?!\\/))+$\", video_file_path)\n",
        "filename = re.sub(\"^[\\/]\", \"\", delsplit.group(0))\n",
        "filename_raw = re.sub(\".{4}$\", \"\", filename)\n",
        "file_extension = re.search(\".{3}$\", filename)\n",
        "file_extension_raw = file_extension.group(0)\n",
        "\n",
        "os.environ['inputFile'] = video_file_path\n",
        "os.environ['outputPath'] = output_file_path_raw\n",
        "os.environ['startTime'] = start_time\n",
        "os.environ['endTime'] = end_time\n",
        "os.environ['fileName'] = filename_raw\n",
        "os.environ['fileExtension'] = file_extension_raw\n",
        "\n",
        "!ffmpeg -hide_banner -i \"$inputFile\" -c copy -strict -2 \"$outputPath\"/\"$fileName\".mkv"
      ],
      "execution_count": null,
      "outputs": []
    },
    {
      "cell_type": "markdown",
      "metadata": {
        "id": "DnrhKfW53wRb"
      },
      "source": [
        "### <font size=\"4\">» </font><font size=\"5\">Merge *Video File* + *Subs File* ➔ *.mkv* (*Lossless*)"
      ]
    },
    {
      "cell_type": "code",
      "metadata": {
        "cellView": "form",
        "id": "b1MjbVYZ3wRb"
      },
      "source": [
        "import os, sys, re\n",
        "\n",
        "video_file_path = \"\" #@param {type:\"string\"}\n",
        "subs_file_path = \"\" #@param {type:\"string\"}\n",
        "\n",
        "output_file_path = re.search(\"^[\\/].+\\/\", video_file_path)\n",
        "output_file_path_raw = output_file_path.group(0)\n",
        "delsplit = re.search(\"\\/(?:.(?!\\/))+$\", video_file_path)\n",
        "filename = re.sub(\"^[\\/]\", \"\", delsplit.group(0))\n",
        "filename_raw = re.sub(\".{4}$\", \"\", filename)\n",
        "file_extension = re.search(\".{3}$\", filename)\n",
        "file_extension_raw = file_extension.group(0)\n",
        "\n",
        "os.environ['inputFile'] = video_file_path\n",
        "os.environ['inputSubsFile'] = subs_file_path\n",
        "os.environ['outputPath'] = output_file_path_raw\n",
        "os.environ['fileName'] = filename_raw\n",
        "os.environ['fileExtension'] = file_extension_raw\n",
        "\n",
        "!ffmpeg -hide_banner -i \"$inputFile\" -i \"$inputSubsFile\" -c:v copy -c:a copy \"$outputPath\"/\"$fileName\"-out.mkv"
      ],
      "execution_count": null,
      "outputs": []
    },
    {
      "cell_type": "markdown",
      "metadata": {
        "id": "FpJXJiRl6-gK"
      },
      "source": [
        "### <font size=\"4\">» </font><font size=\"5\">Trim Video File (*Lossless*)"
      ]
    },
    {
      "cell_type": "code",
      "metadata": {
        "cellView": "form",
        "id": "iFBUeQhn7QTc"
      },
      "source": [
        "import os, sys, re\n",
        "\n",
        "video_file_path = \"\" #@param {type:\"string\"}\n",
        "start_time = \"00:00:00.000\" #@param {type:\"string\"}\n",
        "end_time = \"00:01:00.000\" #@param {type:\"string\"}\n",
        "\n",
        "output_file_path = re.search(\"^[\\/].+\\/\", video_file_path)\n",
        "output_file_path_raw = output_file_path.group(0)\n",
        "delsplit = re.search(\"\\/(?:.(?!\\/))+$\", video_file_path)\n",
        "filename = re.sub(\"^[\\/]\", \"\", delsplit.group(0))\n",
        "filename_raw = re.sub(\".{4}$\", \"\", filename)\n",
        "file_extension = re.search(\".{3}$\", filename)\n",
        "file_extension_raw = file_extension.group(0)\n",
        "\n",
        "os.environ['inputFile'] = video_file_path\n",
        "os.environ['outputPath'] = output_file_path_raw\n",
        "os.environ['startTime'] = start_time\n",
        "os.environ['endTime'] = end_time\n",
        "os.environ['fileName'] = filename_raw\n",
        "os.environ['fileExtension'] = file_extension_raw\n",
        "\n",
        "!ffmpeg -hide_banner -i \"$inputFile\" -ss \"$startTime\" -to \"$endTime\" -c copy \"$outputPath\"/\"$fileName\"-TRIM.\"$fileExtension\""
      ],
      "execution_count": null,
      "outputs": []
    },
    {
      "cell_type": "markdown",
      "metadata": {
        "id": "SNDGdMRn3PA-"
      },
      "source": [
        "### <font size=\"4\">» </font><font size=\"5\">Crop Video"
      ]
    },
    {
      "cell_type": "markdown",
      "metadata": {
        "id": "KFcIThDuBii_"
      },
      "source": [
        "<h3> Crop Variables Explanation:\n",
        "\n",
        "* `out_width` = The width of your cropped video file.\n",
        "* `out_height` = The height of your cropped video file.\n",
        "* `starting_position_x` & `starting_position_y` = These values define the x & y coordinates of the top left corner of your original video to start cropping from.\n",
        "\n",
        "###### *Example: For cropping the black bars from a video that looked like* [this](https://yuju.pw/y/312r.png):\n",
        "* *For your starting coordinates* (`x` , `y`) *you would use* (`0` , `138`).\n",
        "* *For* `out_width` *you would use* `1920`. *And for* `out_height` *you would use `804`.*\n",
        "\n",
        "\n",
        "\n"
      ]
    },
    {
      "cell_type": "code",
      "metadata": {
        "cellView": "form",
        "id": "CEHi5EMm9lXG"
      },
      "source": [
        "import os, sys, re\n",
        "\n",
        "video_file_path = \"\" #@param {type:\"string\"}\n",
        "out_width = \"1920\" #@param {type:\"string\"}\n",
        "out_height = \"804\" #@param {type:\"string\"}\n",
        "starting_position_x = \"0\" #@param {type:\"string\"}\n",
        "starting_position_y = \"138\" #@param {type:\"string\"}\n",
        "\n",
        "output_file_path = re.search(\"^[\\/].+\\/\", video_file_path)\n",
        "output_file_path_raw = output_file_path.group(0)\n",
        "delsplit = re.search(\"\\/(?:.(?!\\/))+$\", video_file_path)\n",
        "filename = re.sub(\"^[\\/]\", \"\", delsplit.group(0))\n",
        "filename_raw = re.sub(\".{4}$\", \"\", filename)\n",
        "file_extension = re.search(\".{3}$\", filename)\n",
        "file_extension_raw = file_extension.group(0)\n",
        "\n",
        "os.environ['inputFile'] = video_file_path\n",
        "os.environ['outputPath'] = output_file_path_raw\n",
        "os.environ['outWidth'] = out_width\n",
        "os.environ['outHeight'] = out_height\n",
        "os.environ['positionX'] = starting_position_x\n",
        "os.environ['positionY'] = starting_position_y\n",
        "os.environ['fileName'] = filename_raw\n",
        "os.environ['fileExtension'] = file_extension_raw\n",
        "\n",
        "!ffmpeg -hide_banner -i \"$inputFile\" -filter:v \"crop=$outWidth:$outHeight:$positionX:$positionY\" \"$outputPath\"/\"$fileName\"-CROP.\"$fileExtension\""
      ],
      "execution_count": null,
      "outputs": []
    },
    {
      "cell_type": "markdown",
      "metadata": {
        "id": "2f-THZmDoOaY"
      },
      "source": [
        "### <font size=\"4\">» </font><font size=\"5\">Extract Audio from Video File (*Lossless*)"
      ]
    },
    {
      "cell_type": "code",
      "metadata": {
        "cellView": "form",
        "id": "nSeO98YQoTJe"
      },
      "source": [
        "import os, sys, re\n",
        "\n",
        "video_file_path = \"\" #@param {type:\"string\"}\n",
        "output_file_extension = 'm4a' #@param [\"m4a\", \"mp3\", \"opus\", \"flac\", \"wav\"]\n",
        "\n",
        "delsplit = re.search(\"\\/(?:.(?!\\/))+$\", video_file_path)\n",
        "output_file_path = re.search(\"^[\\/].+\\/\", video_file_path)\n",
        "filename = re.sub(\"^[\\/]\", \"\", delsplit.group(0))\n",
        "filename_raw = re.sub(\".{4}$\", \"\", filename)\n",
        "\n",
        "os.environ['inputFile'] = video_file_path\n",
        "os.environ['outputPath'] = output_file_path.group(0)\n",
        "os.environ['fileName'] = filename_raw\n",
        "os.environ['fileType'] = output_file_extension\n",
        "\n",
        "!ffmpeg -hide_banner -i \"$inputFile\" -vn -c:a copy \"$outputPath\"/\"$fileName\"-audio.\"$fileType\""
      ],
      "execution_count": null,
      "outputs": []
    },
    {
      "cell_type": "markdown",
      "metadata": {
        "id": "MSUasbRUDP3B"
      },
      "source": [
        "### <font size=\"4\">» </font><font size=\"5\">Re-encode a Video to a Different Resolution"
      ]
    },
    {
      "cell_type": "code",
      "metadata": {
        "cellView": "form",
        "id": "nd2LvSRZCxRe"
      },
      "source": [
        "import os, sys, re\n",
        "\n",
        "video_file_path = '/content/GDrive/MyDrive/FilmyFy.Net - The Warrior (2001).1080p.WebRip.x264.DTS.5.1.ESub.mkv' #@param {type:\"string\"}\n",
        "resolution = '720p' #@param [\"2160p\", \"1440p\", \"1080p\", \"720p\", \"480p\", \"360p\", \"240p\"]\n",
        "file_type = 'mkv' #@param [\"mkv\", \"mp4\"]\n",
        "\n",
        "delsplit = re.search(\"\\/(?:.(?!\\/))+$\", video_file_path)\n",
        "testsplit = video_file_path.split(\"/\")\n",
        "filename = re.sub(\"^[\\/]\", \"\", delsplit.group(0))\n",
        "filename_raw = re.sub(\".{4}$\", \"\", filename)\n",
        "resolution_raw = re.search(\"[^p]{3,4}\", resolution)\n",
        "output_file_path = re.search(\"^[\\/].+\\/\", video_file_path)\n",
        "\n",
        "os.environ['inputFile'] = video_file_path\n",
        "os.environ['outputPath'] = output_file_path.group(0)\n",
        "os.environ['fileName'] = filename_raw\n",
        "os.environ['fileType'] = file_type\n",
        "os.environ['resolutionHeight'] = resolution_raw.group(0)\n",
        "\n",
        "!ffmpeg -hide_banner -i \"$inputFile\" -vf \"scale=-1:\"$resolutionHeight\"\" -c:a copy -strict experimental \"$outputPath\"/\"$fileName\"-\"$resolutionHeight\"p.\"$fileType\""
      ],
      "execution_count": null,
      "outputs": []
    },
    {
      "cell_type": "markdown",
      "metadata": {
        "id": "GahMjYf8miNs"
      },
      "source": [
        "### <font size=\"4\">» </font><font size=\"5\">Generate Thumbnails - Preview from Video (3x2)"
      ]
    },
    {
      "cell_type": "code",
      "metadata": {
        "id": "J2u-Rha8miNy"
      },
      "source": [
        "import os, sys, re\n",
        "\n",
        "video_file_path = \"/content/GDrive/Shareddrives/!Filmyfy/Ray.2021.Season.01.S01.Complete.720p.10bit.NF.WEBRip.2CH.Hindi.x265.HEVC.Darkness/FilmyFy.Net - Ray_2021_S01E01_720p_10bit_NF_WEBRip_2CH_Hindi_x265_HEVC.mkv\" #@param {type:\"string\"}\n",
        "output_file_type = 'png' #@param [\"png\", \"jpg\"]\n",
        "\n",
        "output_file_path = re.search(\"^[\\/].+\\/\", video_file_path)\n",
        "output_file_path_raw = output_file_path.group(0)\n",
        "delsplit = re.search(\"\\/(?:.(?!\\/))+$\", video_file_path)\n",
        "filename = re.sub(\"^[\\/]\", \"\", delsplit.group(0))\n",
        "filename_raw = re.sub(\".{4}$\", \"\", filename)\n",
        "file_extension = re.search(\".{3}$\", filename)\n",
        "file_extension_raw = file_extension.group(0)\n",
        "\n",
        "os.environ['inputFile'] = video_file_path\n",
        "os.environ['outputPath'] = output_file_path_raw\n",
        "os.environ['outputExtension'] = output_file_type\n",
        "os.environ['fileName'] = filename_raw\n",
        "os.environ['fileExtension'] = file_extension_raw\n",
        "\n"
      ],
      "execution_count": null,
      "outputs": []
    },
    {
      "cell_type": "markdown",
      "metadata": {
        "id": "7-3O4en4C4IL"
      },
      "source": [
        "### <font size=\"4\">» </font><font size=\"5\">Convert Audio Filetype (*mp3, m4a, ogg, flac, etc.*)"
      ]
    },
    {
      "cell_type": "code",
      "metadata": {
        "cellView": "form",
        "id": "aURlOf9BC1P3"
      },
      "source": [
        "import os, sys, re\n",
        "\n",
        "audio_file_path = \"\" #@param {type:\"string\"}\n",
        "output_file_type = \"mp3\" #@param [\"mp3\", \"ogg\", \"m4a\", \"opus\", \"flac\", \"alac\", \"wav\"]\n",
        "\n",
        "output_file_path = re.search(\"^[\\/].+\\/\", audio_file_path)\n",
        "output_file_path_raw = output_file_path.group(0)\n",
        "delsplit = re.search(\"\\/(?:.(?!\\/))+$\", audio_file_path)\n",
        "filename = re.sub(\"^[\\/]\", \"\", delsplit.group(0))\n",
        "filename_raw = re.sub(\".{4}$\", \"\", filename)\n",
        "file_extension = re.search(\".{3}$\", filename)\n",
        "file_extension_raw = file_extension.group(0)\n",
        "\n",
        "os.environ['inputFile'] = audio_file_path\n",
        "os.environ['outputPath'] = output_file_path_raw\n",
        "os.environ['fileExtension'] = output_file_type\n",
        "os.environ['fileName'] = filename_raw\n",
        "\n",
        "!ffmpeg -hide_banner -i \"$inputFile\" \"$outputPath\"/\"$fileName\"converted.\"$fileExtension\""
      ],
      "execution_count": null,
      "outputs": []
    },
    {
      "cell_type": "code",
      "metadata": {
        "colab": {
          "base_uri": "https://localhost:8080/"
        },
        "id": "yhEERGgBOvuN",
        "outputId": "4e884ee4-83b5-4da6-8778-855e954afb59"
      },
      "source": [
        "!pip install selenium"
      ],
      "execution_count": null,
      "outputs": [
        {
          "output_type": "stream",
          "text": [
            "Collecting selenium\n",
            "\u001b[?25l  Downloading https://files.pythonhosted.org/packages/80/d6/4294f0b4bce4de0abf13e17190289f9d0613b0a44e5dd6a7f5ca98459853/selenium-3.141.0-py2.py3-none-any.whl (904kB)\n",
            "\r\u001b[K     |▍                               | 10kB 13.7MB/s eta 0:00:01\r\u001b[K     |▊                               | 20kB 19.4MB/s eta 0:00:01\r\u001b[K     |█                               | 30kB 10.4MB/s eta 0:00:01\r\u001b[K     |█▌                              | 40kB 8.3MB/s eta 0:00:01\r\u001b[K     |█▉                              | 51kB 5.3MB/s eta 0:00:01\r\u001b[K     |██▏                             | 61kB 5.5MB/s eta 0:00:01\r\u001b[K     |██▌                             | 71kB 6.2MB/s eta 0:00:01\r\u001b[K     |███                             | 81kB 6.5MB/s eta 0:00:01\r\u001b[K     |███▎                            | 92kB 6.4MB/s eta 0:00:01\r\u001b[K     |███▋                            | 102kB 6.7MB/s eta 0:00:01\r\u001b[K     |████                            | 112kB 6.7MB/s eta 0:00:01\r\u001b[K     |████▍                           | 122kB 6.7MB/s eta 0:00:01\r\u001b[K     |████▊                           | 133kB 6.7MB/s eta 0:00:01\r\u001b[K     |█████                           | 143kB 6.7MB/s eta 0:00:01\r\u001b[K     |█████▍                          | 153kB 6.7MB/s eta 0:00:01\r\u001b[K     |█████▉                          | 163kB 6.7MB/s eta 0:00:01\r\u001b[K     |██████▏                         | 174kB 6.7MB/s eta 0:00:01\r\u001b[K     |██████▌                         | 184kB 6.7MB/s eta 0:00:01\r\u001b[K     |██████▉                         | 194kB 6.7MB/s eta 0:00:01\r\u001b[K     |███████▎                        | 204kB 6.7MB/s eta 0:00:01\r\u001b[K     |███████▋                        | 215kB 6.7MB/s eta 0:00:01\r\u001b[K     |████████                        | 225kB 6.7MB/s eta 0:00:01\r\u001b[K     |████████▎                       | 235kB 6.7MB/s eta 0:00:01\r\u001b[K     |████████▊                       | 245kB 6.7MB/s eta 0:00:01\r\u001b[K     |█████████                       | 256kB 6.7MB/s eta 0:00:01\r\u001b[K     |█████████▍                      | 266kB 6.7MB/s eta 0:00:01\r\u001b[K     |█████████▉                      | 276kB 6.7MB/s eta 0:00:01\r\u001b[K     |██████████▏                     | 286kB 6.7MB/s eta 0:00:01\r\u001b[K     |██████████▌                     | 296kB 6.7MB/s eta 0:00:01\r\u001b[K     |██████████▉                     | 307kB 6.7MB/s eta 0:00:01\r\u001b[K     |███████████▎                    | 317kB 6.7MB/s eta 0:00:01\r\u001b[K     |███████████▋                    | 327kB 6.7MB/s eta 0:00:01\r\u001b[K     |████████████                    | 337kB 6.7MB/s eta 0:00:01\r\u001b[K     |████████████▎                   | 348kB 6.7MB/s eta 0:00:01\r\u001b[K     |████████████▊                   | 358kB 6.7MB/s eta 0:00:01\r\u001b[K     |█████████████                   | 368kB 6.7MB/s eta 0:00:01\r\u001b[K     |█████████████▍                  | 378kB 6.7MB/s eta 0:00:01\r\u001b[K     |█████████████▊                  | 389kB 6.7MB/s eta 0:00:01\r\u001b[K     |██████████████▏                 | 399kB 6.7MB/s eta 0:00:01\r\u001b[K     |██████████████▌                 | 409kB 6.7MB/s eta 0:00:01\r\u001b[K     |██████████████▉                 | 419kB 6.7MB/s eta 0:00:01\r\u001b[K     |███████████████▏                | 430kB 6.7MB/s eta 0:00:01\r\u001b[K     |███████████████▋                | 440kB 6.7MB/s eta 0:00:01\r\u001b[K     |████████████████                | 450kB 6.7MB/s eta 0:00:01\r\u001b[K     |████████████████▎               | 460kB 6.7MB/s eta 0:00:01\r\u001b[K     |████████████████▋               | 471kB 6.7MB/s eta 0:00:01\r\u001b[K     |█████████████████               | 481kB 6.7MB/s eta 0:00:01\r\u001b[K     |█████████████████▍              | 491kB 6.7MB/s eta 0:00:01\r\u001b[K     |█████████████████▊              | 501kB 6.7MB/s eta 0:00:01\r\u001b[K     |██████████████████▏             | 512kB 6.7MB/s eta 0:00:01\r\u001b[K     |██████████████████▌             | 522kB 6.7MB/s eta 0:00:01\r\u001b[K     |██████████████████▉             | 532kB 6.7MB/s eta 0:00:01\r\u001b[K     |███████████████████▏            | 542kB 6.7MB/s eta 0:00:01\r\u001b[K     |███████████████████▋            | 552kB 6.7MB/s eta 0:00:01\r\u001b[K     |████████████████████            | 563kB 6.7MB/s eta 0:00:01\r\u001b[K     |████████████████████▎           | 573kB 6.7MB/s eta 0:00:01\r\u001b[K     |████████████████████▋           | 583kB 6.7MB/s eta 0:00:01\r\u001b[K     |█████████████████████           | 593kB 6.7MB/s eta 0:00:01\r\u001b[K     |█████████████████████▍          | 604kB 6.7MB/s eta 0:00:01\r\u001b[K     |█████████████████████▊          | 614kB 6.7MB/s eta 0:00:01\r\u001b[K     |██████████████████████          | 624kB 6.7MB/s eta 0:00:01\r\u001b[K     |██████████████████████▌         | 634kB 6.7MB/s eta 0:00:01\r\u001b[K     |██████████████████████▉         | 645kB 6.7MB/s eta 0:00:01\r\u001b[K     |███████████████████████▏        | 655kB 6.7MB/s eta 0:00:01\r\u001b[K     |███████████████████████▌        | 665kB 6.7MB/s eta 0:00:01\r\u001b[K     |████████████████████████        | 675kB 6.7MB/s eta 0:00:01\r\u001b[K     |████████████████████████▎       | 686kB 6.7MB/s eta 0:00:01\r\u001b[K     |████████████████████████▋       | 696kB 6.7MB/s eta 0:00:01\r\u001b[K     |█████████████████████████       | 706kB 6.7MB/s eta 0:00:01\r\u001b[K     |█████████████████████████▍      | 716kB 6.7MB/s eta 0:00:01\r\u001b[K     |█████████████████████████▊      | 727kB 6.7MB/s eta 0:00:01\r\u001b[K     |██████████████████████████      | 737kB 6.7MB/s eta 0:00:01\r\u001b[K     |██████████████████████████▍     | 747kB 6.7MB/s eta 0:00:01\r\u001b[K     |██████████████████████████▉     | 757kB 6.7MB/s eta 0:00:01\r\u001b[K     |███████████████████████████▏    | 768kB 6.7MB/s eta 0:00:01\r\u001b[K     |███████████████████████████▌    | 778kB 6.7MB/s eta 0:00:01\r\u001b[K     |████████████████████████████    | 788kB 6.7MB/s eta 0:00:01\r\u001b[K     |████████████████████████████▎   | 798kB 6.7MB/s eta 0:00:01\r\u001b[K     |████████████████████████████▋   | 808kB 6.7MB/s eta 0:00:01\r\u001b[K     |█████████████████████████████   | 819kB 6.7MB/s eta 0:00:01\r\u001b[K     |█████████████████████████████▍  | 829kB 6.7MB/s eta 0:00:01\r\u001b[K     |█████████████████████████████▊  | 839kB 6.7MB/s eta 0:00:01\r\u001b[K     |██████████████████████████████  | 849kB 6.7MB/s eta 0:00:01\r\u001b[K     |██████████████████████████████▍ | 860kB 6.7MB/s eta 0:00:01\r\u001b[K     |██████████████████████████████▉ | 870kB 6.7MB/s eta 0:00:01\r\u001b[K     |███████████████████████████████▏| 880kB 6.7MB/s eta 0:00:01\r\u001b[K     |███████████████████████████████▌| 890kB 6.7MB/s eta 0:00:01\r\u001b[K     |███████████████████████████████▉| 901kB 6.7MB/s eta 0:00:01\r\u001b[K     |████████████████████████████████| 911kB 6.7MB/s \n",
            "\u001b[?25hRequirement already satisfied: urllib3 in /usr/local/lib/python3.7/dist-packages (from selenium) (1.24.3)\n",
            "Installing collected packages: selenium\n",
            "Successfully installed selenium-3.141.0\n"
          ],
          "name": "stdout"
        }
      ]
    },
    {
      "cell_type": "code",
      "metadata": {
        "colab": {
          "base_uri": "https://localhost:8080/"
        },
        "id": "ta-_eKRzO63D",
        "outputId": "62b04c56-5b85-457a-8579-191c6ffe8df1"
      },
      "source": [
        "!"
      ],
      "execution_count": null,
      "outputs": [
        {
          "output_type": "stream",
          "text": [
            "/bin/bash: whereami: command not found\n"
          ],
          "name": "stdout"
        }
      ]
    }
  ]
}